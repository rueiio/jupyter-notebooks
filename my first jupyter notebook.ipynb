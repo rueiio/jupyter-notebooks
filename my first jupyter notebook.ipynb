{
 "cells": [
  {
   "cell_type": "markdown",
   "id": "f7a4cf94",
   "metadata": {},
   "source": [
    "# Data Science Tools and Ecosystem"
   ]
  },
  {
   "cell_type": "markdown",
   "id": "07e8a374",
   "metadata": {},
   "source": [
    "In this notebook, Data Science Tools and Ecosystem are summarized."
   ]
  },
  {
   "cell_type": "markdown",
   "id": "f316eac1",
   "metadata": {},
   "source": [
    "###### Objectives:"
   ]
  },
  {
   "cell_type": "markdown",
   "id": "9e7bb1e4",
   "metadata": {},
   "source": [
    "*  Some of the popular languages that Data Scientists use are:"
   ]
  },
  {
   "cell_type": "markdown",
   "id": "1d316eea",
   "metadata": {},
   "source": [
    "1. R\n",
    "2. Python\n",
    "3. Julia"
   ]
  },
  {
   "cell_type": "markdown",
   "id": "8fc4afd8",
   "metadata": {},
   "source": [
    "* Some of the commonly used libraries used by Data Scientists include:"
   ]
  },
  {
   "cell_type": "markdown",
   "id": "7112d7e1",
   "metadata": {},
   "source": [
    "1. ggplot (R)\n",
    "2. Pandas (Python)\n",
    "3. Numpy (Python)"
   ]
  },
  {
   "cell_type": "markdown",
   "id": "22ad2a0c",
   "metadata": {},
   "source": [
    "* Data Science Tools\n",
    "| Data Science Tools |\n",
    "|---------------------|\n",
    "| ApacheHadoop |\n",
    "||\n",
    "| Rstudio |\n",
    "| |\n",
    "| TensorFlow |"
   ]
  },
  {
   "cell_type": "markdown",
   "id": "51eb0830",
   "metadata": {},
   "source": [
    "### Below are a few examples of evaluating arithmetic expressions in Python."
   ]
  },
  {
   "cell_type": "code",
   "execution_count": 7,
   "id": "948de07d",
   "metadata": {},
   "outputs": [
    {
     "data": {
      "text/plain": [
       "17"
      ]
     },
     "execution_count": 7,
     "metadata": {},
     "output_type": "execute_result"
    }
   ],
   "source": [
    "#This a simple arithmetic expression to mutiply then add integers\n",
    "(3*4)+5"
   ]
  },
  {
   "cell_type": "code",
   "execution_count": 10,
   "id": "cb657538",
   "metadata": {},
   "outputs": [
    {
     "name": "stdout",
     "output_type": "stream",
     "text": [
      "3 hr\n"
     ]
    }
   ],
   "source": [
    "# This will convert 200 minutes to hours by diving by 60\n",
    "mins=200\n",
    "hour=60\n",
    "print(round(mins/hour),\"hr\")"
   ]
  },
  {
   "cell_type": "markdown",
   "id": "f288430d",
   "metadata": {},
   "source": [
    "## Author"
   ]
  },
  {
   "cell_type": "markdown",
   "id": "7d6a0e1a",
   "metadata": {},
   "source": [
    "###### Roaa Alqahtani"
   ]
  },
  {
   "cell_type": "code",
   "execution_count": null,
   "id": "8ae74140",
   "metadata": {},
   "outputs": [],
   "source": []
  }
 ],
 "metadata": {
  "kernelspec": {
   "display_name": "Python 3 (ipykernel)",
   "language": "python",
   "name": "python3"
  },
  "language_info": {
   "codemirror_mode": {
    "name": "ipython",
    "version": 3
   },
   "file_extension": ".py",
   "mimetype": "text/x-python",
   "name": "python",
   "nbconvert_exporter": "python",
   "pygments_lexer": "ipython3",
   "version": "3.11.5"
  }
 },
 "nbformat": 4,
 "nbformat_minor": 5
}
